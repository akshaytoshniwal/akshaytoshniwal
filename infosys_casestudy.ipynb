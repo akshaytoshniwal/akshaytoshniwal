{
  "nbformat": 4,
  "nbformat_minor": 0,
  "metadata": {
    "colab": {
      "name": "infosys_casestudy.ipynb",
      "provenance": [],
      "collapsed_sections": [],
      "authorship_tag": "ABX9TyM+kKzzQ9hgawFcbBvM5Ejk",
      "include_colab_link": true
    },
    "kernelspec": {
      "name": "python3",
      "display_name": "Python 3"
    },
    "language_info": {
      "name": "python"
    }
  },
  "cells": [
    {
      "cell_type": "markdown",
      "metadata": {
        "id": "view-in-github",
        "colab_type": "text"
      },
      "source": [
        "<a href=\"https://colab.research.google.com/github/akshaytoshniwal/akshaytoshniwal/blob/main/infosys_casestudy.ipynb\" target=\"_parent\"><img src=\"https://colab.research.google.com/assets/colab-badge.svg\" alt=\"Open In Colab\"/></a>"
      ]
    },
    {
      "cell_type": "code",
      "metadata": {
        "id": "ZwzmI_hbNKmC"
      },
      "source": [
        "import numpy as np\n",
        "import pandas as pd\n",
        "import matplotlib.pyplot as plt\n",
        "from pyxlsb import convert_date\n",
        "import datetime as dt\n",
        "import nltk\n",
        "from nltk.tokenize import sent_tokenize, word_tokenize\n",
        "from nltk.probability import FreqDist\n",
        "from nltk.corpus import stopwords\n",
        "from nltk.stem import PorterStemmer\n",
        "from nltk.stem.wordnet import WordNetLemmatizer\n",
        "from nltk.sentiment.vader import SentimentIntensityAnalyzer\n"
      ],
      "execution_count": 150,
      "outputs": []
    },
    {
      "cell_type": "code",
      "metadata": {
        "id": "bYgo_PEkOwMF"
      },
      "source": [
        "# !pip install pyxlsb\n",
        "# !pip install nltk\n",
        "ticket_df = pd.read_excel('infosys_casestudy.xlsb', engine='pyxlsb')"
      ],
      "execution_count": 4,
      "outputs": []
    },
    {
      "cell_type": "code",
      "metadata": {
        "colab": {
          "base_uri": "https://localhost:8080/",
          "height": 649
        },
        "id": "j1WhYwxPP1yO",
        "outputId": "3b533a94-7090-4a37-8cd4-e51400e269e0"
      },
      "source": [
        "ticket_df.head()"
      ],
      "execution_count": 5,
      "outputs": [
        {
          "output_type": "execute_result",
          "data": {
            "text/html": [
              "<div>\n",
              "<style scoped>\n",
              "    .dataframe tbody tr th:only-of-type {\n",
              "        vertical-align: middle;\n",
              "    }\n",
              "\n",
              "    .dataframe tbody tr th {\n",
              "        vertical-align: top;\n",
              "    }\n",
              "\n",
              "    .dataframe thead th {\n",
              "        text-align: right;\n",
              "    }\n",
              "</style>\n",
              "<table border=\"1\" class=\"dataframe\">\n",
              "  <thead>\n",
              "    <tr style=\"text-align: right;\">\n",
              "      <th></th>\n",
              "      <th>Ticket Number</th>\n",
              "      <th>Created Calendar Date</th>\n",
              "      <th>Submit Date</th>\n",
              "      <th>Month</th>\n",
              "      <th>Week</th>\n",
              "      <th>Year</th>\n",
              "      <th>Day</th>\n",
              "      <th>month_week</th>\n",
              "      <th>Last Resolved Date</th>\n",
              "      <th>Resolved Client Year WorkWeek</th>\n",
              "      <th>Resolved Client Year Month</th>\n",
              "      <th>Resolved Client Year Quarter</th>\n",
              "      <th>Escalated Agent Start Date</th>\n",
              "      <th>Resolved Agent Service Desk</th>\n",
              "      <th>Resolved Agent Team</th>\n",
              "      <th>Status Class</th>\n",
              "      <th>SLM Status</th>\n",
              "      <th>Short Description</th>\n",
              "      <th>APP BIC</th>\n",
              "      <th>Service Sub Type</th>\n",
              "      <th>Priority</th>\n",
              "      <th>Escalated Flag</th>\n",
              "      <th>Escalated Audit Date</th>\n",
              "      <th>Cancel Reason Description</th>\n",
              "      <th>CSAT (%)</th>\n",
              "      <th>Knowledge Artical Number</th>\n",
              "      <th>Knowledge Title</th>\n",
              "      <th>Product Name</th>\n",
              "      <th>Service</th>\n",
              "      <th>Service Component</th>\n",
              "      <th>Contact Type</th>\n",
              "      <th>TAC Resolved</th>\n",
              "      <th>Country Name</th>\n",
              "      <th>Reopened</th>\n",
              "      <th>Reopened E2E</th>\n",
              "      <th>Region Code</th>\n",
              "      <th>TTR_Hours</th>\n",
              "      <th>TTR Less Than or Equal to 1 hr</th>\n",
              "      <th>TTR Less Than or Equal to 90 min</th>\n",
              "      <th>TTR Less Than or Equal to 30 min</th>\n",
              "      <th>CSAT</th>\n",
              "      <th>Agent Courtesy</th>\n",
              "      <th>Agent Skill</th>\n",
              "      <th>Service Quality</th>\n",
              "      <th>Service Timeliness</th>\n",
              "      <th>Easy To Use Service</th>\n",
              "      <th>Site Code</th>\n",
              "      <th>Support Skill</th>\n",
              "      <th>General Comment</th>\n",
              "    </tr>\n",
              "  </thead>\n",
              "  <tbody>\n",
              "    <tr>\n",
              "      <th>0</th>\n",
              "      <td>INC010429794</td>\n",
              "      <td>43827</td>\n",
              "      <td>43827.702940</td>\n",
              "      <td>12. Dec</td>\n",
              "      <td>53</td>\n",
              "      <td>2019</td>\n",
              "      <td>Sun</td>\n",
              "      <td>5</td>\n",
              "      <td>43828.017870</td>\n",
              "      <td>202001</td>\n",
              "      <td>202001</td>\n",
              "      <td>202001</td>\n",
              "      <td>NaN</td>\n",
              "      <td>AMRTAC</td>\n",
              "      <td>PN</td>\n",
              "      <td>Closed</td>\n",
              "      <td>Within the Service Target</td>\n",
              "      <td>Microsoft Office 365 ProPlus : Outlook and Sky...</td>\n",
              "      <td>2-Business Critical</td>\n",
              "      <td>User Service Restoration</td>\n",
              "      <td>4 - Low</td>\n",
              "      <td>No</td>\n",
              "      <td>NaN</td>\n",
              "      <td>NaN</td>\n",
              "      <td>NaN</td>\n",
              "      <td>KB000640215</td>\n",
              "      <td>Workaround: Office 365 ProPlus installation is...</td>\n",
              "      <td>Microsoft Office 365 ProPlus</td>\n",
              "      <td>End-User Computing and Communications</td>\n",
              "      <td>Office Productivity</td>\n",
              "      <td>phone</td>\n",
              "      <td>Yes</td>\n",
              "      <td>United States</td>\n",
              "      <td>No</td>\n",
              "      <td>No</td>\n",
              "      <td>AMER</td>\n",
              "      <td>8.137222</td>\n",
              "      <td>No</td>\n",
              "      <td>No</td>\n",
              "      <td>No</td>\n",
              "      <td>NaN</td>\n",
              "      <td>NaN</td>\n",
              "      <td>NaN</td>\n",
              "      <td>NaN</td>\n",
              "      <td>NaN</td>\n",
              "      <td>NaN</td>\n",
              "      <td>NaN</td>\n",
              "      <td>NaN</td>\n",
              "      <td>NaN</td>\n",
              "    </tr>\n",
              "    <tr>\n",
              "      <th>1</th>\n",
              "      <td>INC010430302</td>\n",
              "      <td>43828</td>\n",
              "      <td>43828.021285</td>\n",
              "      <td>12. Dec</td>\n",
              "      <td>53</td>\n",
              "      <td>2019</td>\n",
              "      <td>Sun</td>\n",
              "      <td>5</td>\n",
              "      <td>43828.031262</td>\n",
              "      <td>202001</td>\n",
              "      <td>202001</td>\n",
              "      <td>202001</td>\n",
              "      <td>NaN</td>\n",
              "      <td>AMRTAC</td>\n",
              "      <td>PN</td>\n",
              "      <td>Closed</td>\n",
              "      <td>Within the Service Target</td>\n",
              "      <td>Circuit Employee Portal - User wants Circuit E...</td>\n",
              "      <td>1-Mission Critical</td>\n",
              "      <td>How Do I</td>\n",
              "      <td>4 - Low</td>\n",
              "      <td>No</td>\n",
              "      <td>NaN</td>\n",
              "      <td>NaN</td>\n",
              "      <td>NaN</td>\n",
              "      <td>KB000648656</td>\n",
              "      <td>Login Issue with circuit</td>\n",
              "      <td>Circuit Employee Portal</td>\n",
              "      <td>Hire to Retire</td>\n",
              "      <td>HR Engagement and Experience</td>\n",
              "      <td>phone</td>\n",
              "      <td>Yes</td>\n",
              "      <td>United States</td>\n",
              "      <td>No</td>\n",
              "      <td>No</td>\n",
              "      <td>AMER</td>\n",
              "      <td>0.990000</td>\n",
              "      <td>Yes</td>\n",
              "      <td>Yes</td>\n",
              "      <td>No</td>\n",
              "      <td>NaN</td>\n",
              "      <td>NaN</td>\n",
              "      <td>NaN</td>\n",
              "      <td>NaN</td>\n",
              "      <td>NaN</td>\n",
              "      <td>NaN</td>\n",
              "      <td>NaN</td>\n",
              "      <td>NaN</td>\n",
              "      <td>NaN</td>\n",
              "    </tr>\n",
              "    <tr>\n",
              "      <th>2</th>\n",
              "      <td>RITM8217581</td>\n",
              "      <td>43828</td>\n",
              "      <td>43828.036933</td>\n",
              "      <td>12. Dec</td>\n",
              "      <td>53</td>\n",
              "      <td>2019</td>\n",
              "      <td>Sun</td>\n",
              "      <td>5</td>\n",
              "      <td>43828.039074</td>\n",
              "      <td>202001</td>\n",
              "      <td>202001</td>\n",
              "      <td>202001</td>\n",
              "      <td>NaN</td>\n",
              "      <td>AMRTAC</td>\n",
              "      <td>PN</td>\n",
              "      <td>Cancelled</td>\n",
              "      <td>Within the Service Target</td>\n",
              "      <td>TAC Unsupport Requests</td>\n",
              "      <td>NaN</td>\n",
              "      <td>catalog</td>\n",
              "      <td>4 - Low</td>\n",
              "      <td>No</td>\n",
              "      <td>NaN</td>\n",
              "      <td>NaN</td>\n",
              "      <td>NaN</td>\n",
              "      <td>NaN</td>\n",
              "      <td>NaN</td>\n",
              "      <td>NaN</td>\n",
              "      <td>Enterprise Service Solutions</td>\n",
              "      <td>Service Desk</td>\n",
              "      <td>phone</td>\n",
              "      <td>Yes</td>\n",
              "      <td>NaN</td>\n",
              "      <td>No</td>\n",
              "      <td>No</td>\n",
              "      <td>NaN</td>\n",
              "      <td>0.051388</td>\n",
              "      <td>Yes</td>\n",
              "      <td>Yes</td>\n",
              "      <td>Yes</td>\n",
              "      <td>NaN</td>\n",
              "      <td>NaN</td>\n",
              "      <td>NaN</td>\n",
              "      <td>NaN</td>\n",
              "      <td>NaN</td>\n",
              "      <td>NaN</td>\n",
              "      <td>NaN</td>\n",
              "      <td>NaN</td>\n",
              "      <td>NaN</td>\n",
              "    </tr>\n",
              "    <tr>\n",
              "      <th>3</th>\n",
              "      <td>RITM8217584</td>\n",
              "      <td>43828</td>\n",
              "      <td>43828.038588</td>\n",
              "      <td>12. Dec</td>\n",
              "      <td>53</td>\n",
              "      <td>2019</td>\n",
              "      <td>Sun</td>\n",
              "      <td>5</td>\n",
              "      <td>43828.044954</td>\n",
              "      <td>202001</td>\n",
              "      <td>202001</td>\n",
              "      <td>202001</td>\n",
              "      <td>NaN</td>\n",
              "      <td>AMRTAC</td>\n",
              "      <td>PN</td>\n",
              "      <td>Cancelled</td>\n",
              "      <td>NaN</td>\n",
              "      <td>CORP Worker and System Account Admin PWD and U...</td>\n",
              "      <td>NaN</td>\n",
              "      <td>catalog</td>\n",
              "      <td>4 - Low</td>\n",
              "      <td>No</td>\n",
              "      <td>NaN</td>\n",
              "      <td>NaN</td>\n",
              "      <td>NaN</td>\n",
              "      <td>NaN</td>\n",
              "      <td>NaN</td>\n",
              "      <td>NaN</td>\n",
              "      <td>Digital Identity and Access Management</td>\n",
              "      <td>Digital Identity Access Crypto Mgmt</td>\n",
              "      <td>phone</td>\n",
              "      <td>Yes</td>\n",
              "      <td>NaN</td>\n",
              "      <td>No</td>\n",
              "      <td>No</td>\n",
              "      <td>NaN</td>\n",
              "      <td>0.152777</td>\n",
              "      <td>Yes</td>\n",
              "      <td>Yes</td>\n",
              "      <td>Yes</td>\n",
              "      <td>NaN</td>\n",
              "      <td>NaN</td>\n",
              "      <td>NaN</td>\n",
              "      <td>NaN</td>\n",
              "      <td>NaN</td>\n",
              "      <td>NaN</td>\n",
              "      <td>NaN</td>\n",
              "      <td>NaN</td>\n",
              "      <td>NaN</td>\n",
              "    </tr>\n",
              "    <tr>\n",
              "      <th>4</th>\n",
              "      <td>INC010428398</td>\n",
              "      <td>43826</td>\n",
              "      <td>43826.978426</td>\n",
              "      <td>12. Dec</td>\n",
              "      <td>53</td>\n",
              "      <td>2019</td>\n",
              "      <td>Sun</td>\n",
              "      <td>5</td>\n",
              "      <td>43828.053681</td>\n",
              "      <td>202001</td>\n",
              "      <td>202001</td>\n",
              "      <td>202001</td>\n",
              "      <td>43577.0</td>\n",
              "      <td>AMRTAC</td>\n",
              "      <td>PN</td>\n",
              "      <td>Cancelled</td>\n",
              "      <td>Within the Service Target</td>\n",
              "      <td>retical move : getting server error</td>\n",
              "      <td>2-Business Critical</td>\n",
              "      <td>User Service Restoration</td>\n",
              "      <td>4 - Low</td>\n",
              "      <td>Yes</td>\n",
              "      <td>43826.978426</td>\n",
              "      <td>No Response</td>\n",
              "      <td>NaN</td>\n",
              "      <td>NaN</td>\n",
              "      <td>NaN</td>\n",
              "      <td>CLS40R-AMHS</td>\n",
              "      <td>Mfg Automated Material Handling Systems</td>\n",
              "      <td>Mfg AMHS Storage</td>\n",
              "      <td>phone</td>\n",
              "      <td>No</td>\n",
              "      <td>United States</td>\n",
              "      <td>No</td>\n",
              "      <td>No</td>\n",
              "      <td>AMER</td>\n",
              "      <td>26.086666</td>\n",
              "      <td>No</td>\n",
              "      <td>No</td>\n",
              "      <td>No</td>\n",
              "      <td>NaN</td>\n",
              "      <td>NaN</td>\n",
              "      <td>NaN</td>\n",
              "      <td>NaN</td>\n",
              "      <td>NaN</td>\n",
              "      <td>NaN</td>\n",
              "      <td>NaN</td>\n",
              "      <td>NaN</td>\n",
              "      <td>NaN</td>\n",
              "    </tr>\n",
              "  </tbody>\n",
              "</table>\n",
              "</div>"
            ],
            "text/plain": [
              "  Ticket Number  Created Calendar Date  ...  Support Skill General Comment\n",
              "0  INC010429794                  43827  ...            NaN             NaN\n",
              "1  INC010430302                  43828  ...            NaN             NaN\n",
              "2   RITM8217581                  43828  ...            NaN             NaN\n",
              "3   RITM8217584                  43828  ...            NaN             NaN\n",
              "4  INC010428398                  43826  ...            NaN             NaN\n",
              "\n",
              "[5 rows x 49 columns]"
            ]
          },
          "metadata": {
            "tags": []
          },
          "execution_count": 5
        }
      ]
    },
    {
      "cell_type": "code",
      "metadata": {
        "colab": {
          "base_uri": "https://localhost:8080/",
          "height": 351
        },
        "id": "qGa7K8FsSpvH",
        "outputId": "348da5e4-e9b6-4d17-a082-90f42e47006a"
      },
      "source": [
        "ticket_df.columns\n",
        "ticket_df.describe()"
      ],
      "execution_count": 156,
      "outputs": [
        {
          "output_type": "execute_result",
          "data": {
            "text/html": [
              "<div>\n",
              "<style scoped>\n",
              "    .dataframe tbody tr th:only-of-type {\n",
              "        vertical-align: middle;\n",
              "    }\n",
              "\n",
              "    .dataframe tbody tr th {\n",
              "        vertical-align: top;\n",
              "    }\n",
              "\n",
              "    .dataframe thead th {\n",
              "        text-align: right;\n",
              "    }\n",
              "</style>\n",
              "<table border=\"1\" class=\"dataframe\">\n",
              "  <thead>\n",
              "    <tr style=\"text-align: right;\">\n",
              "      <th></th>\n",
              "      <th>Week</th>\n",
              "      <th>Year</th>\n",
              "      <th>month_week</th>\n",
              "      <th>Resolved Client Year WorkWeek</th>\n",
              "      <th>Resolved Client Year Month</th>\n",
              "      <th>Resolved Client Year Quarter</th>\n",
              "      <th>Escalated Agent Start Date</th>\n",
              "      <th>Escalated Audit Date</th>\n",
              "      <th>CSAT (%)</th>\n",
              "      <th>TTR_Hours</th>\n",
              "      <th>CSAT</th>\n",
              "    </tr>\n",
              "  </thead>\n",
              "  <tbody>\n",
              "    <tr>\n",
              "      <th>count</th>\n",
              "      <td>146595.000000</td>\n",
              "      <td>146595.000000</td>\n",
              "      <td>146595.000000</td>\n",
              "      <td>146595.000000</td>\n",
              "      <td>146595.000000</td>\n",
              "      <td>146595.000000</td>\n",
              "      <td>25660.000000</td>\n",
              "      <td>25698.000000</td>\n",
              "      <td>12976.000000</td>\n",
              "      <td>146595.000000</td>\n",
              "      <td>10253.000000</td>\n",
              "    </tr>\n",
              "    <tr>\n",
              "      <th>mean</th>\n",
              "      <td>10.332535</td>\n",
              "      <td>2019.981336</td>\n",
              "      <td>3.105897</td>\n",
              "      <td>202009.362025</td>\n",
              "      <td>202002.630015</td>\n",
              "      <td>202001.262178</td>\n",
              "      <td>43413.609860</td>\n",
              "      <td>43884.678191</td>\n",
              "      <td>0.879354</td>\n",
              "      <td>69.267256</td>\n",
              "      <td>4.555935</td>\n",
              "    </tr>\n",
              "    <tr>\n",
              "      <th>std</th>\n",
              "      <td>7.704993</td>\n",
              "      <td>0.135335</td>\n",
              "      <td>1.306742</td>\n",
              "      <td>5.106162</td>\n",
              "      <td>1.186328</td>\n",
              "      <td>0.439820</td>\n",
              "      <td>364.582105</td>\n",
              "      <td>39.812614</td>\n",
              "      <td>0.325580</td>\n",
              "      <td>448.439792</td>\n",
              "      <td>0.958217</td>\n",
              "    </tr>\n",
              "    <tr>\n",
              "      <th>min</th>\n",
              "      <td>1.000000</td>\n",
              "      <td>2019.000000</td>\n",
              "      <td>1.000000</td>\n",
              "      <td>202001.000000</td>\n",
              "      <td>202001.000000</td>\n",
              "      <td>202001.000000</td>\n",
              "      <td>35829.000000</td>\n",
              "      <td>43467.195856</td>\n",
              "      <td>0.000000</td>\n",
              "      <td>-16.700277</td>\n",
              "      <td>1.000000</td>\n",
              "    </tr>\n",
              "    <tr>\n",
              "      <th>25%</th>\n",
              "      <td>5.000000</td>\n",
              "      <td>2020.000000</td>\n",
              "      <td>2.000000</td>\n",
              "      <td>202005.000000</td>\n",
              "      <td>202002.000000</td>\n",
              "      <td>202001.000000</td>\n",
              "      <td>43270.000000</td>\n",
              "      <td>43855.970712</td>\n",
              "      <td>1.000000</td>\n",
              "      <td>0.300555</td>\n",
              "      <td>5.000000</td>\n",
              "    </tr>\n",
              "    <tr>\n",
              "      <th>50%</th>\n",
              "      <td>10.000000</td>\n",
              "      <td>2020.000000</td>\n",
              "      <td>3.000000</td>\n",
              "      <td>202009.000000</td>\n",
              "      <td>202003.000000</td>\n",
              "      <td>202001.000000</td>\n",
              "      <td>43577.000000</td>\n",
              "      <td>43886.441100</td>\n",
              "      <td>1.000000</td>\n",
              "      <td>0.961944</td>\n",
              "      <td>5.000000</td>\n",
              "    </tr>\n",
              "    <tr>\n",
              "      <th>75%</th>\n",
              "      <td>14.000000</td>\n",
              "      <td>2020.000000</td>\n",
              "      <td>4.000000</td>\n",
              "      <td>202014.000000</td>\n",
              "      <td>202004.000000</td>\n",
              "      <td>202002.000000</td>\n",
              "      <td>43653.000000</td>\n",
              "      <td>43916.394375</td>\n",
              "      <td>1.000000</td>\n",
              "      <td>15.845833</td>\n",
              "      <td>5.000000</td>\n",
              "    </tr>\n",
              "    <tr>\n",
              "      <th>max</th>\n",
              "      <td>53.000000</td>\n",
              "      <td>2020.000000</td>\n",
              "      <td>5.000000</td>\n",
              "      <td>202018.000000</td>\n",
              "      <td>202005.000000</td>\n",
              "      <td>202002.000000</td>\n",
              "      <td>43894.000000</td>\n",
              "      <td>43953.822141</td>\n",
              "      <td>1.000000</td>\n",
              "      <td>16765.861388</td>\n",
              "      <td>5.000000</td>\n",
              "    </tr>\n",
              "  </tbody>\n",
              "</table>\n",
              "</div>"
            ],
            "text/plain": [
              "                Week           Year  ...      TTR_Hours          CSAT\n",
              "count  146595.000000  146595.000000  ...  146595.000000  10253.000000\n",
              "mean       10.332535    2019.981336  ...      69.267256      4.555935\n",
              "std         7.704993       0.135335  ...     448.439792      0.958217\n",
              "min         1.000000    2019.000000  ...     -16.700277      1.000000\n",
              "25%         5.000000    2020.000000  ...       0.300555      5.000000\n",
              "50%        10.000000    2020.000000  ...       0.961944      5.000000\n",
              "75%        14.000000    2020.000000  ...      15.845833      5.000000\n",
              "max        53.000000    2020.000000  ...   16765.861388      5.000000\n",
              "\n",
              "[8 rows x 11 columns]"
            ]
          },
          "metadata": {
            "tags": []
          },
          "execution_count": 156
        }
      ]
    },
    {
      "cell_type": "code",
      "metadata": {
        "id": "RqFGwqI4Tkr_",
        "colab": {
          "base_uri": "https://localhost:8080/"
        },
        "outputId": "47da7abb-6270-4dd6-9d2c-3ec6efc60b98"
      },
      "source": [
        "ticket_df['Created Calendar Date'] = pd.TimedeltaIndex(ticket_df['Created Calendar Date'], unit='d') + dt.datetime(1899, 12, 30)\n",
        "\n",
        "for i in range (len(ticket_df['Submit Date'])):\n",
        "  # converted_submit_date.append(convert_date(ticket_df['Submit Date'][i]))\n",
        "  ticket_df['Submit Date'][i] = convert_date(ticket_df['Submit Date'][i])\n",
        "\n",
        "for i in range (len(ticket_df['Last Resolved Date'])):\n",
        "  # converted_submit_date.append(convert_date(ticket_df['Submit Date'][i]))\n",
        "  ticket_df['Last Resolved Date'][i] = convert_date(ticket_df['Last Resolved Date'][i])"
      ],
      "execution_count": 7,
      "outputs": [
        {
          "output_type": "stream",
          "text": [
            "/usr/local/lib/python3.7/dist-packages/ipykernel_launcher.py:5: SettingWithCopyWarning: \n",
            "A value is trying to be set on a copy of a slice from a DataFrame\n",
            "\n",
            "See the caveats in the documentation: https://pandas.pydata.org/pandas-docs/stable/user_guide/indexing.html#returning-a-view-versus-a-copy\n",
            "  \"\"\"\n",
            "/usr/local/lib/python3.7/dist-packages/ipykernel_launcher.py:9: SettingWithCopyWarning: \n",
            "A value is trying to be set on a copy of a slice from a DataFrame\n",
            "\n",
            "See the caveats in the documentation: https://pandas.pydata.org/pandas-docs/stable/user_guide/indexing.html#returning-a-view-versus-a-copy\n",
            "  if __name__ == '__main__':\n"
          ],
          "name": "stderr"
        }
      ]
    },
    {
      "cell_type": "code",
      "metadata": {
        "id": "LZauRMUaTpna"
      },
      "source": [
        "updated_ticket_df = ticket_df[['Ticket Number', 'Created Calendar Date', 'Submit Date', 'Last Resolved Date', 'Short Description']]"
      ],
      "execution_count": 8,
      "outputs": []
    },
    {
      "cell_type": "code",
      "metadata": {
        "id": "8mJvyMRcZpiG",
        "colab": {
          "base_uri": "https://localhost:8080/",
          "height": 306
        },
        "outputId": "5c322277-e9a4-4856-f3a6-2f7dcf6bd8d7"
      },
      "source": [
        "updated_ticket_df.head()"
      ],
      "execution_count": 9,
      "outputs": [
        {
          "output_type": "execute_result",
          "data": {
            "text/html": [
              "<div>\n",
              "<style scoped>\n",
              "    .dataframe tbody tr th:only-of-type {\n",
              "        vertical-align: middle;\n",
              "    }\n",
              "\n",
              "    .dataframe tbody tr th {\n",
              "        vertical-align: top;\n",
              "    }\n",
              "\n",
              "    .dataframe thead th {\n",
              "        text-align: right;\n",
              "    }\n",
              "</style>\n",
              "<table border=\"1\" class=\"dataframe\">\n",
              "  <thead>\n",
              "    <tr style=\"text-align: right;\">\n",
              "      <th></th>\n",
              "      <th>Ticket Number</th>\n",
              "      <th>Created Calendar Date</th>\n",
              "      <th>Submit Date</th>\n",
              "      <th>Last Resolved Date</th>\n",
              "      <th>Short Description</th>\n",
              "    </tr>\n",
              "  </thead>\n",
              "  <tbody>\n",
              "    <tr>\n",
              "      <th>0</th>\n",
              "      <td>INC010429794</td>\n",
              "      <td>2019-12-28</td>\n",
              "      <td>2019-12-28 16:52:14</td>\n",
              "      <td>2019-12-29 00:25:44</td>\n",
              "      <td>Microsoft Office 365 ProPlus : Outlook and Sky...</td>\n",
              "    </tr>\n",
              "    <tr>\n",
              "      <th>1</th>\n",
              "      <td>INC010430302</td>\n",
              "      <td>2019-12-29</td>\n",
              "      <td>2019-12-29 00:30:38</td>\n",
              "      <td>2019-12-29 00:45:01</td>\n",
              "      <td>Circuit Employee Portal - User wants Circuit E...</td>\n",
              "    </tr>\n",
              "    <tr>\n",
              "      <th>2</th>\n",
              "      <td>RITM8217581</td>\n",
              "      <td>2019-12-29</td>\n",
              "      <td>2019-12-29 00:53:10</td>\n",
              "      <td>2019-12-29 00:56:16</td>\n",
              "      <td>TAC Unsupport Requests</td>\n",
              "    </tr>\n",
              "    <tr>\n",
              "      <th>3</th>\n",
              "      <td>RITM8217584</td>\n",
              "      <td>2019-12-29</td>\n",
              "      <td>2019-12-29 00:55:33</td>\n",
              "      <td>2019-12-29 01:04:44</td>\n",
              "      <td>CORP Worker and System Account Admin PWD and U...</td>\n",
              "    </tr>\n",
              "    <tr>\n",
              "      <th>4</th>\n",
              "      <td>INC010428398</td>\n",
              "      <td>2019-12-27</td>\n",
              "      <td>2019-12-27 23:28:55</td>\n",
              "      <td>2019-12-29 01:17:17</td>\n",
              "      <td>retical move : getting server error</td>\n",
              "    </tr>\n",
              "  </tbody>\n",
              "</table>\n",
              "</div>"
            ],
            "text/plain": [
              "  Ticket Number  ...                                  Short Description\n",
              "0  INC010429794  ...  Microsoft Office 365 ProPlus : Outlook and Sky...\n",
              "1  INC010430302  ...  Circuit Employee Portal - User wants Circuit E...\n",
              "2   RITM8217581  ...                             TAC Unsupport Requests\n",
              "3   RITM8217584  ...  CORP Worker and System Account Admin PWD and U...\n",
              "4  INC010428398  ...                retical move : getting server error\n",
              "\n",
              "[5 rows x 5 columns]"
            ]
          },
          "metadata": {
            "tags": []
          },
          "execution_count": 9
        }
      ]
    },
    {
      "cell_type": "code",
      "metadata": {
        "id": "JHzk4LLIETjh"
      },
      "source": [
        "tickets_created_per_day = updated_ticket_df['Created Calendar Date'].dt.date.value_counts()"
      ],
      "execution_count": 10,
      "outputs": []
    },
    {
      "cell_type": "code",
      "metadata": {
        "id": "JzmNUmERKZQ-"
      },
      "source": [
        "tickets_created_per_day = tickets_created_per_day.to_frame()\n",
        "tickets_created_per_day = tickets_created_per_day.reset_index()\n",
        "tickets_created_per_day = tickets_created_per_day.rename(columns= {'index': 'date', 'Created Calendar Date': 'total_tickets_created'})"
      ],
      "execution_count": 11,
      "outputs": []
    },
    {
      "cell_type": "code",
      "metadata": {
        "colab": {
          "base_uri": "https://localhost:8080/",
          "height": 419
        },
        "id": "jV78IGdbX3s_",
        "outputId": "0369ed45-ec7f-4179-efed-c32ef51720a3"
      },
      "source": [
        "tickets_created_per_day"
      ],
      "execution_count": 12,
      "outputs": [
        {
          "output_type": "execute_result",
          "data": {
            "text/html": [
              "<div>\n",
              "<style scoped>\n",
              "    .dataframe tbody tr th:only-of-type {\n",
              "        vertical-align: middle;\n",
              "    }\n",
              "\n",
              "    .dataframe tbody tr th {\n",
              "        vertical-align: top;\n",
              "    }\n",
              "\n",
              "    .dataframe thead th {\n",
              "        text-align: right;\n",
              "    }\n",
              "</style>\n",
              "<table border=\"1\" class=\"dataframe\">\n",
              "  <thead>\n",
              "    <tr style=\"text-align: right;\">\n",
              "      <th></th>\n",
              "      <th>date</th>\n",
              "      <th>total_tickets_created</th>\n",
              "    </tr>\n",
              "  </thead>\n",
              "  <tbody>\n",
              "    <tr>\n",
              "      <th>0</th>\n",
              "      <td>2020-01-06</td>\n",
              "      <td>2066</td>\n",
              "    </tr>\n",
              "    <tr>\n",
              "      <th>1</th>\n",
              "      <td>2020-01-07</td>\n",
              "      <td>2023</td>\n",
              "    </tr>\n",
              "    <tr>\n",
              "      <th>2</th>\n",
              "      <td>2020-02-03</td>\n",
              "      <td>1940</td>\n",
              "    </tr>\n",
              "    <tr>\n",
              "      <th>3</th>\n",
              "      <td>2020-02-04</td>\n",
              "      <td>1871</td>\n",
              "    </tr>\n",
              "    <tr>\n",
              "      <th>4</th>\n",
              "      <td>2020-04-01</td>\n",
              "      <td>1848</td>\n",
              "    </tr>\n",
              "    <tr>\n",
              "      <th>...</th>\n",
              "      <td>...</td>\n",
              "      <td>...</td>\n",
              "    </tr>\n",
              "    <tr>\n",
              "      <th>371</th>\n",
              "      <td>2019-06-30</td>\n",
              "      <td>1</td>\n",
              "    </tr>\n",
              "    <tr>\n",
              "      <th>372</th>\n",
              "      <td>2019-09-07</td>\n",
              "      <td>1</td>\n",
              "    </tr>\n",
              "    <tr>\n",
              "      <th>373</th>\n",
              "      <td>2019-10-20</td>\n",
              "      <td>1</td>\n",
              "    </tr>\n",
              "    <tr>\n",
              "      <th>374</th>\n",
              "      <td>2019-05-27</td>\n",
              "      <td>1</td>\n",
              "    </tr>\n",
              "    <tr>\n",
              "      <th>375</th>\n",
              "      <td>2019-04-24</td>\n",
              "      <td>1</td>\n",
              "    </tr>\n",
              "  </tbody>\n",
              "</table>\n",
              "<p>376 rows × 2 columns</p>\n",
              "</div>"
            ],
            "text/plain": [
              "           date  total_tickets_created\n",
              "0    2020-01-06                   2066\n",
              "1    2020-01-07                   2023\n",
              "2    2020-02-03                   1940\n",
              "3    2020-02-04                   1871\n",
              "4    2020-04-01                   1848\n",
              "..          ...                    ...\n",
              "371  2019-06-30                      1\n",
              "372  2019-09-07                      1\n",
              "373  2019-10-20                      1\n",
              "374  2019-05-27                      1\n",
              "375  2019-04-24                      1\n",
              "\n",
              "[376 rows x 2 columns]"
            ]
          },
          "metadata": {
            "tags": []
          },
          "execution_count": 12
        }
      ]
    },
    {
      "cell_type": "code",
      "metadata": {
        "colab": {
          "base_uri": "https://localhost:8080/",
          "height": 722
        },
        "id": "xVCgMg9VdCvN",
        "outputId": "48c8ad2f-a17e-4b48-fc53-e8bf2c491414"
      },
      "source": [
        "# tickets_created_per_day.plot.bar(x='date', y='total_tickets_created', width = 10 ,title='Total Tickets per Day Creation')\n",
        "date_values = tickets_created_per_day['date'].sort_values(ascending=False)\n",
        "date_values = date_values.sort_values(ascending=True)\n",
        "# print(date_values)\n",
        "\n",
        "tickets_created_per_day['date'] = pd.to_datetime(tickets_created_per_day['date'])\n",
        "sorted_df = tickets_created_per_day.sort_values('date',ascending=True)\n",
        "\n",
        "overall_data_distribution = sorted_df.groupby(sorted_df['date'].dt.year).sum()\n",
        "overall_data_distribution = overall_data_distribution.reset_index()\n",
        "\n",
        "\n",
        "print(overall_data_distribution)\n",
        "overall_data_distribution.plot.bar(x='date', y='total_tickets_created',rot=90, figsize=(15, 10), xlabel='Year', ylabel='Total Tickets Created', title='Total Tickets Created Each Year')"
      ],
      "execution_count": 157,
      "outputs": [
        {
          "output_type": "stream",
          "text": [
            "   date  total_tickets_created\n",
            "0  2018                      2\n",
            "1  2019                   4934\n",
            "2  2020                 141659\n"
          ],
          "name": "stdout"
        },
        {
          "output_type": "execute_result",
          "data": {
            "text/plain": [
              "<matplotlib.axes._subplots.AxesSubplot at 0x7f561e613610>"
            ]
          },
          "metadata": {
            "tags": []
          },
          "execution_count": 157
        },
        {
          "output_type": "display_data",
          "data": {
            "image/png": "[encoded data removed]",
            "text/plain": [
              "<Figure size 1080x720 with 1 Axes>"
            ]
          },
          "metadata": {
            "tags": [],
            "needs_background": "light"
          }
        }
      ]
    },
    {
      "cell_type": "code",
      "metadata": {
        "colab": {
          "base_uri": "https://localhost:8080/"
        },
        "id": "8Yaj4klSfj6v",
        "outputId": "b679dba9-5f1e-4254-8808-560dff78f187"
      },
      "source": [
        "updated_ticket_df['Short Description']"
      ],
      "execution_count": 36,
      "outputs": [
        {
          "output_type": "execute_result",
          "data": {
            "text/plain": [
              "0         Microsoft Office 365 ProPlus : Outlook and Sky...\n",
              "1         Circuit Employee Portal - User wants Circuit E...\n",
              "2                                    TAC Unsupport Requests\n",
              "3         CORP Worker and System Account Admin PWD and U...\n",
              "4                       retical move : getting server error\n",
              "                                ...                        \n",
              "146590           VPN : User having VPN disconnection issue.\n",
              "146591                               TAC Unsupport Requests\n",
              "146592    Microsoft Outlook 365 ProPlus:-I'm the owner o...\n",
              "146593                              Winzip will not install\n",
              "146594    IT Device Market:-PC Accessories delivery are ...\n",
              "Name: Short Description, Length: 146595, dtype: object"
            ]
          },
          "metadata": {
            "tags": []
          },
          "execution_count": 36
        }
      ]
    },
    {
      "cell_type": "code",
      "metadata": {
        "colab": {
          "base_uri": "https://localhost:8080/"
        },
        "id": "GMSujN2Fy5XK",
        "outputId": "15facb36-7e77-45ec-e0d9-ca964ff65c31"
      },
      "source": [
        ""
      ],
      "execution_count": 137,
      "outputs": [
        {
          "output_type": "stream",
          "text": [
            "['windows', ':', 'shows', 'reference', 'account', 'locked', ',', 'login', 'failed']\n"
          ],
          "name": "stdout"
        }
      ]
    },
    {
      "cell_type": "code",
      "metadata": {
        "id": "j_oGpMMnCgGR"
      },
      "source": [
        "def sentiment_analyses(text_data):\n",
        "  vds = SentimentIntensityAnalyzer()\n",
        "  score_details = vds.polarity_scores(text_data)\n",
        "  score_df = pd.DataFrame.from_dict(score_details, orient='index')\n",
        "  negative_score = score_df[0]['neg']\n",
        "  positive_score = score_df[0]['pos']\n",
        "  neutral_score = score_df[0]['neu']\n",
        "  compound_overall_score = score_df[0]['compound']\n",
        "  return compound_overall_score"
      ],
      "execution_count": 151,
      "outputs": []
    },
    {
      "cell_type": "code",
      "metadata": {
        "colab": {
          "base_uri": "https://localhost:8080/",
          "height": 723
        },
        "id": "yYLXWpKXCj3O",
        "outputId": "4b444d86-f35a-43c6-d2da-49e881e5b4a6"
      },
      "source": [
        "text_data = []\n",
        "overall_polarity_score = []\n",
        "sentiment_value = []\n",
        "\n",
        "for i in range(0,len(updated_ticket_df['Short Description'])):\n",
        "  text_data.append(updated_ticket_df['Short Description'][i])\n",
        "  overall_polarity_score.append(sentiment_analyses(text_data[i]))\n",
        "  if overall_polarity_score[i] > 0.05:\n",
        "    sentiment_value.append('Positive')\n",
        "\n",
        "  if overall_polarity_score[i] < -0.05:\n",
        "    sentiment_value.append('Negative')\n",
        "\n",
        "  if overall_polarity_score[i] > -0.05 and overall_polarity_score[i] < 0.05:\n",
        "    sentiment_value.append('Neutral')\n",
        "\n",
        "print(text_data)\n",
        "overall_polarity_score\n",
        "print(sentiment_value)\n",
        "\n",
        "sentiment_dataframe = {'text':text_data, 'sentiment_of_text':sentiment_value}\n",
        "\n",
        "pd.DataFrame(sentiment_dataframe)\n",
        "\n",
        "# text_to_tokens_sentence = sent_tokenize(text1)\n",
        "# text_to_tokens_word = word_tokenize(text1)\n",
        "# print(text_to_tokens_word)"
      ],
      "execution_count": 171,
      "outputs": [
        {
          "output_type": "stream",
          "text": [
            "['Microsoft Office 365 ProPlus : Outlook and Skype showing disconnected asking for the password.', 'Circuit Employee Portal - User wants Circuit Employee Portal as home page in Chrome', 'TAC Unsupport Requests', 'CORP Worker and System Account Admin PWD and Unlock', 'retical move : getting server error', 'TAC Unsupport Requests', 'TAC Unsupport Requests', 'Microsoft Office 365 ProPlus : User want to Delete all the Rules in the Outlook', 'TAC Unsupport Requests', 'Enterprise Login Password Reset - Automated Process', 'Enterprise Login Password Reset - Automated Process', 'Enterprise Login Password Reset - Automated Process', 'windows : shows reference account locked, login failed', 'Microsoft Lync/Skype for Business: Skype Microphone Issues, unble to listening voice', 'Microsoft Outlook 365 ProPlus : Outlook slowness', 'TAC Unsupport Requests', 'Client SM - Client Software Market - I CANT DOWNLOAD DOTNET. SAYS INSATLLATION PATH IS WRONG', 'TAC Unsupport Requests', 'MNE managed Microsoft BitLocker: recover bitlocker key', 'CORP Worker and System Account Admin PWD and Unlock']\n",
            "['Neutral', 'Neutral', 'Neutral', 'Neutral', 'Negative', 'Neutral', 'Neutral', 'Positive', 'Neutral', 'Neutral', 'Neutral', 'Neutral', 'Negative', 'Neutral', 'Neutral', 'Neutral', 'Negative', 'Neutral', 'Neutral', 'Neutral']\n"
          ],
          "name": "stdout"
        },
        {
          "output_type": "execute_result",
          "data": {
            "text/html": [
              "<div>\n",
              "<style scoped>\n",
              "    .dataframe tbody tr th:only-of-type {\n",
              "        vertical-align: middle;\n",
              "    }\n",
              "\n",
              "    .dataframe tbody tr th {\n",
              "        vertical-align: top;\n",
              "    }\n",
              "\n",
              "    .dataframe thead th {\n",
              "        text-align: right;\n",
              "    }\n",
              "</style>\n",
              "<table border=\"1\" class=\"dataframe\">\n",
              "  <thead>\n",
              "    <tr style=\"text-align: right;\">\n",
              "      <th></th>\n",
              "      <th>text</th>\n",
              "      <th>sentiment_of_text</th>\n",
              "    </tr>\n",
              "  </thead>\n",
              "  <tbody>\n",
              "    <tr>\n",
              "      <th>0</th>\n",
              "      <td>Microsoft Office 365 ProPlus : Outlook and Sky...</td>\n",
              "      <td>Neutral</td>\n",
              "    </tr>\n",
              "    <tr>\n",
              "      <th>1</th>\n",
              "      <td>Circuit Employee Portal - User wants Circuit E...</td>\n",
              "      <td>Neutral</td>\n",
              "    </tr>\n",
              "    <tr>\n",
              "      <th>2</th>\n",
              "      <td>TAC Unsupport Requests</td>\n",
              "      <td>Neutral</td>\n",
              "    </tr>\n",
              "    <tr>\n",
              "      <th>3</th>\n",
              "      <td>CORP Worker and System Account Admin PWD and U...</td>\n",
              "      <td>Neutral</td>\n",
              "    </tr>\n",
              "    <tr>\n",
              "      <th>4</th>\n",
              "      <td>retical move : getting server error</td>\n",
              "      <td>Negative</td>\n",
              "    </tr>\n",
              "    <tr>\n",
              "      <th>5</th>\n",
              "      <td>TAC Unsupport Requests</td>\n",
              "      <td>Neutral</td>\n",
              "    </tr>\n",
              "    <tr>\n",
              "      <th>6</th>\n",
              "      <td>TAC Unsupport Requests</td>\n",
              "      <td>Neutral</td>\n",
              "    </tr>\n",
              "    <tr>\n",
              "      <th>7</th>\n",
              "      <td>Microsoft Office 365 ProPlus : User want to De...</td>\n",
              "      <td>Positive</td>\n",
              "    </tr>\n",
              "    <tr>\n",
              "      <th>8</th>\n",
              "      <td>TAC Unsupport Requests</td>\n",
              "      <td>Neutral</td>\n",
              "    </tr>\n",
              "    <tr>\n",
              "      <th>9</th>\n",
              "      <td>Enterprise Login Password Reset - Automated Pr...</td>\n",
              "      <td>Neutral</td>\n",
              "    </tr>\n",
              "    <tr>\n",
              "      <th>10</th>\n",
              "      <td>Enterprise Login Password Reset - Automated Pr...</td>\n",
              "      <td>Neutral</td>\n",
              "    </tr>\n",
              "    <tr>\n",
              "      <th>11</th>\n",
              "      <td>Enterprise Login Password Reset - Automated Pr...</td>\n",
              "      <td>Neutral</td>\n",
              "    </tr>\n",
              "    <tr>\n",
              "      <th>12</th>\n",
              "      <td>windows : shows reference account locked, logi...</td>\n",
              "      <td>Negative</td>\n",
              "    </tr>\n",
              "    <tr>\n",
              "      <th>13</th>\n",
              "      <td>Microsoft Lync/Skype for Business: Skype Micro...</td>\n",
              "      <td>Neutral</td>\n",
              "    </tr>\n",
              "    <tr>\n",
              "      <th>14</th>\n",
              "      <td>Microsoft Outlook 365 ProPlus : Outlook slowness</td>\n",
              "      <td>Neutral</td>\n",
              "    </tr>\n",
              "    <tr>\n",
              "      <th>15</th>\n",
              "      <td>TAC Unsupport Requests</td>\n",
              "      <td>Neutral</td>\n",
              "    </tr>\n",
              "    <tr>\n",
              "      <th>16</th>\n",
              "      <td>Client SM - Client Software Market - I CANT DO...</td>\n",
              "      <td>Negative</td>\n",
              "    </tr>\n",
              "    <tr>\n",
              "      <th>17</th>\n",
              "      <td>TAC Unsupport Requests</td>\n",
              "      <td>Neutral</td>\n",
              "    </tr>\n",
              "    <tr>\n",
              "      <th>18</th>\n",
              "      <td>MNE managed Microsoft BitLocker: recover bitlo...</td>\n",
              "      <td>Neutral</td>\n",
              "    </tr>\n",
              "    <tr>\n",
              "      <th>19</th>\n",
              "      <td>CORP Worker and System Account Admin PWD and U...</td>\n",
              "      <td>Neutral</td>\n",
              "    </tr>\n",
              "  </tbody>\n",
              "</table>\n",
              "</div>"
            ],
            "text/plain": [
              "                                                 text sentiment_of_text\n",
              "0   Microsoft Office 365 ProPlus : Outlook and Sky...           Neutral\n",
              "1   Circuit Employee Portal - User wants Circuit E...           Neutral\n",
              "2                              TAC Unsupport Requests           Neutral\n",
              "3   CORP Worker and System Account Admin PWD and U...           Neutral\n",
              "4                 retical move : getting server error          Negative\n",
              "5                              TAC Unsupport Requests           Neutral\n",
              "6                              TAC Unsupport Requests           Neutral\n",
              "7   Microsoft Office 365 ProPlus : User want to De...          Positive\n",
              "8                              TAC Unsupport Requests           Neutral\n",
              "9   Enterprise Login Password Reset - Automated Pr...           Neutral\n",
              "10  Enterprise Login Password Reset - Automated Pr...           Neutral\n",
              "11  Enterprise Login Password Reset - Automated Pr...           Neutral\n",
              "12  windows : shows reference account locked, logi...          Negative\n",
              "13  Microsoft Lync/Skype for Business: Skype Micro...           Neutral\n",
              "14   Microsoft Outlook 365 ProPlus : Outlook slowness           Neutral\n",
              "15                             TAC Unsupport Requests           Neutral\n",
              "16  Client SM - Client Software Market - I CANT DO...          Negative\n",
              "17                             TAC Unsupport Requests           Neutral\n",
              "18  MNE managed Microsoft BitLocker: recover bitlo...           Neutral\n",
              "19  CORP Worker and System Account Admin PWD and U...           Neutral"
            ]
          },
          "metadata": {
            "tags": []
          },
          "execution_count": 171
        }
      ]
    },
    {
      "cell_type": "code",
      "metadata": {
        "colab": {
          "base_uri": "https://localhost:8080/"
        },
        "id": "wt0SOVwD0otO",
        "outputId": "8448ddeb-1a30-4abc-8b8b-fd40840e2c4a"
      },
      "source": [
        "\n",
        "frequency_distribution = FreqDist(text_to_tokens_word)\n",
        "print(frequency_distribution)\n",
        "frequency_distribution.most_common()"
      ],
      "execution_count": 138,
      "outputs": [
        {
          "output_type": "stream",
          "text": [
            "<FreqDist with 9 samples and 9 outcomes>\n"
          ],
          "name": "stdout"
        },
        {
          "output_type": "execute_result",
          "data": {
            "text/plain": [
              "[('windows', 1),\n",
              " (':', 1),\n",
              " ('shows', 1),\n",
              " ('reference', 1),\n",
              " ('account', 1),\n",
              " ('locked', 1),\n",
              " (',', 1),\n",
              " ('login', 1),\n",
              " ('failed', 1)]"
            ]
          },
          "metadata": {
            "tags": []
          },
          "execution_count": 138
        }
      ]
    },
    {
      "cell_type": "code",
      "metadata": {
        "colab": {
          "base_uri": "https://localhost:8080/",
          "height": 317
        },
        "id": "f8IdER7w111S",
        "outputId": "bdd94c95-8be9-4149-9f82-27f457363657"
      },
      "source": [
        "frequency_distribution.plot(15, cumulative=False)\n",
        "plt.show()"
      ],
      "execution_count": 139,
      "outputs": [
        {
          "output_type": "display_data",
          "data": {
            "image/png": "[encoded data removed]",
            "text/plain": [
              "<Figure size 432x288 with 1 Axes>"
            ]
          },
          "metadata": {
            "tags": [],
            "needs_background": "light"
          }
        }
      ]
    },
    {
      "cell_type": "code",
      "metadata": {
        "id": "UlFGsYIQ2xF7"
      },
      "source": [
        ""
      ],
      "execution_count": 140,
      "outputs": []
    },
    {
      "cell_type": "code",
      "metadata": {
        "colab": {
          "base_uri": "https://localhost:8080/"
        },
        "id": "oMvpgEd-3AkZ",
        "outputId": "5886a9ce-33a5-44e2-9222-edbf634c5a0e"
      },
      "source": [
        "stopwords_data = set(stopwords.words('english'))\n",
        "print(stopwords_data)"
      ],
      "execution_count": 141,
      "outputs": [
        {
          "output_type": "stream",
          "text": [
            "{'did', 'each', 'myself', 'before', 'hasn', 'doesn', 'more', 'can', 'through', 'same', 'between', 'has', 'or', \"wouldn't\", 'themselves', 'but', 'this', 'shouldn', 'were', 'been', 'all', \"isn't\", 'some', 'herself', 'mustn', 'during', \"you're\", 'is', 'on', 'most', 'will', 'no', 've', 'needn', 'her', 't', 'being', 'over', 'to', 'ourselves', 'which', 'yourself', 'what', 'she', 'y', 'd', \"haven't\", 'when', 'how', 'have', 'yours', 'didn', \"mightn't\", 'won', 'don', 'again', \"you'd\", 'was', 'll', 'you', \"doesn't\", 'very', \"mustn't\", 'while', 'after', 'am', 'having', 'your', 'few', \"she's\", 'there', 're', 'once', 'those', 's', 'from', \"needn't\", 'are', 'wouldn', 'himself', \"hadn't\", 'with', 'theirs', 'both', 'for', 'such', 'them', 'other', 'ours', 'above', \"that'll\", 'that', 'where', 'do', 'hers', 'shan', 'at', 'against', 'off', 'they', 'just', 'mightn', 'my', 'does', 'up', 'weren', 'had', 'm', 'any', 'o', 'wasn', 'itself', 'out', \"should've\", 'the', 'an', 'into', \"aren't\", \"hasn't\", 'whom', 'down', 'further', 'of', 'yourselves', 'isn', 'ma', 'by', 'than', \"didn't\", 'so', 'our', 'we', 'nor', 'because', 'their', 'should', 'who', 'these', 'not', 'him', 'i', 'hadn', 'why', 'too', \"couldn't\", \"won't\", 'in', 'he', 'only', 'its', \"wasn't\", \"you'll\", 'then', 'own', 'couldn', 'aren', 'doing', 'me', \"you've\", 'his', 'under', 'it', 'if', 'as', 'below', 'now', 'and', \"weren't\", \"don't\", 'be', 'about', \"shan't\", \"it's\", 'haven', 'here', 'ain', \"shouldn't\", 'until', 'a'}\n"
          ],
          "name": "stdout"
        }
      ]
    },
    {
      "cell_type": "code",
      "metadata": {
        "colab": {
          "base_uri": "https://localhost:8080/"
        },
        "id": "xi3zglkz3Int",
        "outputId": "9f32d9b1-6a9b-47f6-fe54-614e11898cf3"
      },
      "source": [
        "updated_sentence = []\n",
        "for word in text_to_tokens_word:\n",
        "  if word not in stopwords_data:\n",
        "    updated_sentence.append(word)\n",
        "\n",
        "print(text_to_tokens_word)\n",
        "print(updated_sentence)"
      ],
      "execution_count": 142,
      "outputs": [
        {
          "output_type": "stream",
          "text": [
            "['windows', ':', 'shows', 'reference', 'account', 'locked', ',', 'login', 'failed']\n",
            "['windows', ':', 'shows', 'reference', 'account', 'locked', ',', 'login', 'failed']\n"
          ],
          "name": "stdout"
        }
      ]
    },
    {
      "cell_type": "code",
      "metadata": {
        "colab": {
          "base_uri": "https://localhost:8080/"
        },
        "id": "QdGzGqiD36La",
        "outputId": "a62b1470-733a-4daa-a78e-4dc13857727a"
      },
      "source": [
        "ps = PorterStemmer()\n",
        "lem = WordNetLemmatizer()\n",
        "\n",
        "updated_stemmed_words = []\n",
        "for words in updated_sentence:\n",
        "  updated_stemmed_words.append(ps.stem(words))\n",
        "\n",
        "updated_lematized_words = []\n",
        "for words in updated_sentence:\n",
        "  updated_lematized_words.append(lem.lemmatize(words,\"v\"))\n",
        "\n",
        "print('Sentence after removing stop words: ', updated_sentence)\n",
        "print('Sentence after performing stemming: ',updated_stemmed_words)\n",
        "print('Sentence after performing lemmatization: ',updated_lematized_words)"
      ],
      "execution_count": 143,
      "outputs": [
        {
          "output_type": "stream",
          "text": [
            "Sentence after removing stop words:  ['windows', ':', 'shows', 'reference', 'account', 'locked', ',', 'login', 'failed']\n",
            "Sentence after performing stemming:  ['window', ':', 'show', 'refer', 'account', 'lock', ',', 'login', 'fail']\n",
            "Sentence after performing lemmatization:  ['windows', ':', 'show', 'reference', 'account', 'lock', ',', 'login', 'fail']\n"
          ],
          "name": "stdout"
        }
      ]
    },
    {
      "cell_type": "code",
      "metadata": {
        "colab": {
          "base_uri": "https://localhost:8080/"
        },
        "id": "VsDGQHLy4yjN",
        "outputId": "c76fc7e7-2059-4147-c44d-ef78777cab25"
      },
      "source": [
        "nltk.pos_tag(updated_lematized_words)"
      ],
      "execution_count": 144,
      "outputs": [
        {
          "output_type": "execute_result",
          "data": {
            "text/plain": [
              "[('windows', 'NNS'),\n",
              " (':', ':'),\n",
              " ('show', 'NN'),\n",
              " ('reference', 'NN'),\n",
              " ('account', 'NN'),\n",
              " ('lock', 'NN'),\n",
              " (',', ','),\n",
              " ('login', 'JJ'),\n",
              " ('fail', 'NN')]"
            ]
          },
          "metadata": {
            "tags": []
          },
          "execution_count": 144
        }
      ]
    },
    {
      "cell_type": "code",
      "metadata": {
        "id": "S1qCQYb56Hoj"
      },
      "source": [
        ""
      ],
      "execution_count": 171,
      "outputs": []
    },
    {
      "cell_type": "code",
      "metadata": {
        "id": "Kw2ptCmY8ZhD"
      },
      "source": [
        ""
      ],
      "execution_count": 171,
      "outputs": []
    },
    {
      "cell_type": "code",
      "metadata": {
        "id": "cDCNDJ_u9Dlj"
      },
      "source": [
        ""
      ],
      "execution_count": 147,
      "outputs": []
    },
    {
      "cell_type": "code",
      "metadata": {
        "id": "-dl6QNNN9p5p"
      },
      "source": [
        ""
      ],
      "execution_count": 148,
      "outputs": []
    },
    {
      "cell_type": "code",
      "metadata": {
        "colab": {
          "base_uri": "https://localhost:8080/",
          "height": 173
        },
        "id": "yFdgqZHO937_",
        "outputId": "6bcf7a60-6d5c-4d65-cf0d-b0e92226265e"
      },
      "source": [
        "score_df"
      ],
      "execution_count": 149,
      "outputs": [
        {
          "output_type": "execute_result",
          "data": {
            "text/html": [
              "<div>\n",
              "<style scoped>\n",
              "    .dataframe tbody tr th:only-of-type {\n",
              "        vertical-align: middle;\n",
              "    }\n",
              "\n",
              "    .dataframe tbody tr th {\n",
              "        vertical-align: top;\n",
              "    }\n",
              "\n",
              "    .dataframe thead th {\n",
              "        text-align: right;\n",
              "    }\n",
              "</style>\n",
              "<table border=\"1\" class=\"dataframe\">\n",
              "  <thead>\n",
              "    <tr style=\"text-align: right;\">\n",
              "      <th></th>\n",
              "      <th>0</th>\n",
              "    </tr>\n",
              "  </thead>\n",
              "  <tbody>\n",
              "    <tr>\n",
              "      <th>neg</th>\n",
              "      <td>0.3550</td>\n",
              "    </tr>\n",
              "    <tr>\n",
              "      <th>neu</th>\n",
              "      <td>0.6450</td>\n",
              "    </tr>\n",
              "    <tr>\n",
              "      <th>pos</th>\n",
              "      <td>0.0000</td>\n",
              "    </tr>\n",
              "    <tr>\n",
              "      <th>compound</th>\n",
              "      <td>-0.5106</td>\n",
              "    </tr>\n",
              "  </tbody>\n",
              "</table>\n",
              "</div>"
            ],
            "text/plain": [
              "               0\n",
              "neg       0.3550\n",
              "neu       0.6450\n",
              "pos       0.0000\n",
              "compound -0.5106"
            ]
          },
          "metadata": {
            "tags": []
          },
          "execution_count": 149
        }
      ]
    },
    {
      "cell_type": "code",
      "metadata": {
        "id": "hI-eqZ02_uEb"
      },
      "source": [
        ""
      ],
      "execution_count": null,
      "outputs": []
    }
  ]
}